{
 "cells": [
  {
   "cell_type": "markdown",
   "metadata": {},
   "source": [
    "#  CONNECTING TO IBM DB2 Database"
   ]
  },
  {
   "cell_type": "code",
   "execution_count": 23,
   "metadata": {},
   "outputs": [],
   "source": [
    "# Step 1: Importing ibm_db Python library\n",
    "import ibm_db"
   ]
  },
  {
   "cell_type": "code",
   "execution_count": 24,
   "metadata": {},
   "outputs": [],
   "source": [
    "# Step 2: Identify database connection credentials\n",
    "dsn_hostname = 'dashdb-txn-sbox-yp-dal09-11.services.dal.bluemix.net'\n",
    "dsn_uid = 'wbv26087'\n",
    "dsn_pwd = 'p+28427q1zhppg84'\n",
    "dsn_driver = '{IBM DB2 ODBC DRIVER}'\n",
    "dsn_database = 'BLUDB'\n",
    "dsn_port = '50000'\n",
    "dsn_protocol = 'TCPIP'"
   ]
  },
  {
   "cell_type": "code",
   "execution_count": 9,
   "metadata": {},
   "outputs": [
    {
     "name": "stdout",
     "output_type": "stream",
     "text": [
      "DRIVER = {IBM DB2 ODBC DRIVER};DATABASE = BLUDB;HOSTNAME = dashdb-txn-sbox-yp-dal09-11.services.dal.bluemix.net;PORT = 50000;PROTOCOL = TCPIP;UID = wbv26087;PWD = p+28427q1zhppg84;\n"
     ]
    }
   ],
   "source": [
    "# Step 3: Create DB2 data base connection\n",
    "dsn = (\n",
    "\"DRIVER = {0};\"\n",
    "\"DATABASE = {1};\"\n",
    "\"HOSTNAME = {2};\"\n",
    "\"PORT = {3};\"\n",
    "\"PROTOCOL = {4};\"\n",
    "\"UID = {5};\"\n",
    "\"PWD = {6};\").format(dsn_driver,dsn_database,dsn_hostname,dsn_port,dsn_protocol,dsn_uid,dsn_pwd)\n",
    "print(dsn)"
   ]
  },
  {
   "cell_type": "code",
   "execution_count": 15,
   "metadata": {},
   "outputs": [
    {
     "name": "stdout",
     "output_type": "stream",
     "text": [
      "Connected to database:  BLUDB as user: wbv26087 on host:  dashdb-txn-sbox-yp-dal09-11.services.dal.bluemix.net\n"
     ]
    }
   ],
   "source": [
    "# Step 4: Create a Database Connection\n",
    "try:\n",
    "    conn = ibm_db.connect(dsn,\"\",\"\")\n",
    "    print(\"Connected to database: \", dsn_database, \"as user:\", dsn_uid, \"on host: \", dsn_hostname)\n",
    "except:\n",
    "    print(\"Unable to connect: \",ibm_db.conn_errormsg())"
   ]
  },
  {
   "cell_type": "code",
   "execution_count": 17,
   "metadata": {},
   "outputs": [
    {
     "data": {
      "text/plain": [
       "<ibm_db.IBM_DBServerInfo at 0x7f40beface70>"
      ]
     },
     "execution_count": 17,
     "metadata": {},
     "output_type": "execute_result"
    }
   ],
   "source": [
    "# Step 5: Retrieve Metadata for DataBase Server \n",
    "server = ibm_db.server_info(conn)\n",
    "server"
   ]
  },
  {
   "cell_type": "code",
   "execution_count": 18,
   "metadata": {},
   "outputs": [
    {
     "data": {
      "text/plain": [
       "<ibm_db.IBM_DBClientInfo at 0x7f40ac2235d0>"
      ]
     },
     "execution_count": 18,
     "metadata": {},
     "output_type": "execute_result"
    }
   ],
   "source": [
    "# Step 6: Retrieve Metadata for DataBase Client\n",
    "client = ibm_db.client_info(conn)\n",
    "client"
   ]
  },
  {
   "cell_type": "code",
   "execution_count": 19,
   "metadata": {},
   "outputs": [
    {
     "data": {
      "text/plain": [
       "True"
      ]
     },
     "execution_count": 19,
     "metadata": {},
     "output_type": "execute_result"
    }
   ],
   "source": [
    "ibm_db.close(conn)"
   ]
  },
  {
   "cell_type": "markdown",
   "metadata": {},
   "source": [
    "## Author: Abid Raza\n",
    "### Inspired by IBM Data Science Courses"
   ]
  },
  {
   "cell_type": "code",
   "execution_count": null,
   "metadata": {},
   "outputs": [],
   "source": []
  }
 ],
 "metadata": {
  "kernelspec": {
   "display_name": "Python",
   "language": "python",
   "name": "conda-env-python-py"
  },
  "language_info": {
   "codemirror_mode": {
    "name": "ipython",
    "version": 3
   },
   "file_extension": ".py",
   "mimetype": "text/x-python",
   "name": "python",
   "nbconvert_exporter": "python",
   "pygments_lexer": "ipython3",
   "version": "3.6.11"
  }
 },
 "nbformat": 4,
 "nbformat_minor": 4
}
